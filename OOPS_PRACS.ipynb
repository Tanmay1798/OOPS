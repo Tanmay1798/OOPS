{
 "cells": [
  {
   "cell_type": "code",
   "execution_count": null,
   "id": "13f4d258",
   "metadata": {},
   "outputs": [],
   "source": [
    "# Q1.  and   Q2"
   ]
  },
  {
   "cell_type": "code",
   "execution_count": 11,
   "id": "8096ab8a",
   "metadata": {},
   "outputs": [
    {
     "name": "stdout",
     "output_type": "stream",
     "text": [
      " My name is Tanmay. I am 24 years old. I from Thane. I am working as Data Specialist at Here Technology.\n",
      " My hobby is Photography and cricket\n",
      " My favourite dish is Paneer vala sab kuch.\n",
      "\n",
      "\n",
      " My name is Atul. I am 31 years old. I from Thane. I am working as Manager at CDSL.\n",
      " My hobby is Cricket\n",
      " My favourite dish is Chicken nawabi.\n",
      "\n",
      "\n",
      " My name is Dattu. I am 26 years old. I from Airoli. I am working as Analyst at MAFIL.\n",
      " My hobby is Treking\n",
      " My favourite dish is Biryanii.\n",
      "\n",
      "\n",
      " My name is Sanvee. I am 28 years old. I from Mumbai. I am working as Teacher at NetTech.\n",
      " My hobby is Teaching (he ky je varti info ahe tyana mich tr shikvte.)\n",
      " My favourite dish is Sab kuch jo ach lagta he.\n"
     ]
    }
   ],
   "source": [
    "class nettech:\n",
    "    def __init__(self , name , age , location):\n",
    "        self.name = name\n",
    "        self.age = age\n",
    "        self.location = location\n",
    "        \n",
    "    def job(self , jd , comp):\n",
    "        return f\" My name is {self.name}. I am {self.age} years old. I from {self.location}. I am working as {jd} at {comp}.\"\n",
    "    \n",
    "    def hobby(self , hob):\n",
    "        return f\" My hobby is {hob}\"\n",
    "    def food(self , fav):\n",
    "        return f\" My favourite dish is {fav}.\"\n",
    "    \n",
    "a1 = nettech(\"Tanmay\" , 24 , \"Thane\")\n",
    "print(a1.job(\"Data Specialist\" , \"Here Technology\"))\n",
    "print(a1.hobby(\"Photography and cricket\"))\n",
    "print(a1.food(\"Paneer vala sab kuch\"))\n",
    "\n",
    "print(\"\\n\")\n",
    "\n",
    "a2 = nettech(\"Atul\" , 31 , \"Thane\")\n",
    "print(a2.job(\"Manager\" , \"CDSL\"))\n",
    "print(a2.hobby(\"Cricket\"))\n",
    "print(a2.food(\"Chicken nawabi\"))\n",
    "\n",
    "print(\"\\n\")\n",
    "\n",
    "a3 = nettech(\"Dattu\" , 26 , \"Airoli\")\n",
    "print(a3.job(\"Analyst\" , \"MAFIL\"))\n",
    "print(a3.hobby(\"Treking\"))\n",
    "print(a3.food(\"Biryanii\"))\n",
    "\n",
    "print(\"\\n\")\n",
    "\n",
    "a4 = nettech(\"Sanvee\" , 28 , \"Mumbai\")\n",
    "print(a4.job(\"Teacher\" , \"NetTech\"))\n",
    "print(a4.hobby(\"Teaching (he ky je varti info ahe tyana mich tr shikvte.)\"))\n",
    "print(a4.food(\"Sab kuch jo ach lagta he\"))"
   ]
  },
  {
   "cell_type": "code",
   "execution_count": null,
   "id": "e434ab81",
   "metadata": {},
   "outputs": [],
   "source": []
  },
  {
   "cell_type": "code",
   "execution_count": null,
   "id": "f1c6bfff",
   "metadata": {},
   "outputs": [],
   "source": [
    "# Q3. Check whether encapsulation(private variable) handle with inheritance or not"
   ]
  },
  {
   "cell_type": "code",
   "execution_count": 23,
   "id": "a7519ad4",
   "metadata": {},
   "outputs": [
    {
     "name": "stdout",
     "output_type": "stream",
     "text": [
      "My name Tanmay\n",
      "Tanmay\n"
     ]
    }
   ],
   "source": [
    "class a():\n",
    "    def __init__(self , name):\n",
    "        self.__name = name\n",
    "    \n",
    "    def na(self):\n",
    "        return f\"My name {self.__name}\"\n",
    "\n",
    "class b(a):\n",
    "    pass\n",
    "\n",
    "\n",
    "ob = b(\"Tanmay\")\n",
    "print(ob.na())\n",
    "print(ob._a__name)"
   ]
  },
  {
   "cell_type": "code",
   "execution_count": null,
   "id": "560a4b65",
   "metadata": {},
   "outputs": [],
   "source": []
  },
  {
   "cell_type": "code",
   "execution_count": null,
   "id": "1d77e673",
   "metadata": {},
   "outputs": [],
   "source": [
    "# Q4. Create a Bus class that inherits from the vehicle class. \n",
    "#Give the capacity arguement of Bus.seating_capacity() a default value of 50."
   ]
  },
  {
   "cell_type": "code",
   "execution_count": 22,
   "id": "2db1db2b",
   "metadata": {},
   "outputs": [
    {
     "name": "stdout",
     "output_type": "stream",
     "text": [
      "The seating capacity of a School Volvo is 50 passengers\n"
     ]
    }
   ],
   "source": [
    "class Vehicle:\n",
    "    def __init__(self, name, max_speed, mileage):\n",
    "        self.name = name\n",
    "        self.max_speed = max_speed\n",
    "        self.mileage = mileage\n",
    "\n",
    "    def seating_capacity(self, capacity):\n",
    "        return f\"The seating capacity of a {self.name} is {capacity} passengers\"\n",
    "\n",
    "class Bus(Vehicle):\n",
    "    # assign default value to capacity\n",
    "    def seating_capacity(self, capacity=50):\n",
    "        return super().seating_capacity(capacity=50)\n",
    "\n",
    "School_bus = Bus(\"School Volvo\", 180, 12)\n",
    "print(School_bus.seating_capacity(40))"
   ]
  },
  {
   "cell_type": "code",
   "execution_count": null,
   "id": "cea6cf60",
   "metadata": {},
   "outputs": [],
   "source": []
  },
  {
   "cell_type": "code",
   "execution_count": null,
   "id": "5c41c86a",
   "metadata": {},
   "outputs": [],
   "source": [
    "# Q5. Define a class attribute color with a default value white. i.e. Every vehicle should be white."
   ]
  },
  {
   "cell_type": "code",
   "execution_count": 4,
   "id": "d84bdd12",
   "metadata": {},
   "outputs": [
    {
     "name": "stdout",
     "output_type": "stream",
     "text": [
      "The colour of a Rolls Royce is white.\n"
     ]
    }
   ],
   "source": [
    "class Vehicle:\n",
    "    def __init__(self, name, max_speed, mileage):\n",
    "        self.name = name\n",
    "        self.max_speed = max_speed\n",
    "        self.mileage = mileage\n",
    "\n",
    "    def color(self, Colour):\n",
    "        return f\"The colour of a {self.name} is {Colour}.\"\n",
    "\n",
    "class car(Vehicle):\n",
    "    # assign default value to capacity\n",
    "    def color(self, Colour = \"white\"):\n",
    "        return super().color(Colour = \"white\")\n",
    "\n",
    "showroom = car(\"Rolls Royce\", 180, 12)\n",
    "print(showroom.color(\"Black\"))"
   ]
  },
  {
   "cell_type": "code",
   "execution_count": null,
   "id": "99556ff3",
   "metadata": {},
   "outputs": [],
   "source": []
  }
 ],
 "metadata": {
  "kernelspec": {
   "display_name": "Python 3 (ipykernel)",
   "language": "python",
   "name": "python3"
  },
  "language_info": {
   "codemirror_mode": {
    "name": "ipython",
    "version": 3
   },
   "file_extension": ".py",
   "mimetype": "text/x-python",
   "name": "python",
   "nbconvert_exporter": "python",
   "pygments_lexer": "ipython3",
   "version": "3.9.7"
  }
 },
 "nbformat": 4,
 "nbformat_minor": 5
}
